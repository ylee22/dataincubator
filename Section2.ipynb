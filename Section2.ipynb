{
 "cells": [
  {
   "cell_type": "code",
   "execution_count": 1,
   "metadata": {
    "collapsed": true
   },
   "outputs": [],
   "source": [
    "import numpy as np\n",
    "\n",
    "# each position can have at most 1 car\n",
    "# need a function to initialize the road\n",
    "# need a function to move cars\n",
    "\n",
    "def initialize(n, m):\n",
    "    road = np.array([np.arange(n), np.zeros(n)]).T\n",
    "    road[:m, 1] = 1\n",
    "    return road\n",
    "\n",
    "def move(road1):\n",
    "    # find the positions of all cars\n",
    "    currpos = road1[road1[:,1]==1, 0]\n",
    "    # if there is a car in the last position, check to see if position 0 is empty\n",
    "    if (road1[-1, 1] == 1) & (road1[0, 1] == 0):\n",
    "        valid = np.append(currpos, road1.shape[0] + 2)\n",
    "    else:\n",
    "        valid = np.append(currpos, road1.shape[0])\n",
    "    # determine the cars with valid moves\n",
    "    valid = currpos[np.ediff1d(valid) > 1]\n",
    "    movecar = np.random.choice(valid)\n",
    "    movecar = movecar.astype(int)\n",
    "    # make copy to prevent the input from being changed\n",
    "    road = np.copy(road1)\n",
    "    road[movecar, 1] = 0\n",
    "    nextpos = movecar + 1\n",
    "    road[nextpos % road.shape[0], 1] = 1\n",
    "    return road\n",
    "\n",
    "def rounds(road, t):\n",
    "    prevroad = np.copy(road)\n",
    "    for i in range(t):\n",
    "        nextroad = move(prevroad)\n",
    "        prevroad = np.copy(nextroad)\n",
    "    # after t rounds, compute the average and standard deviation of the positions of the cars\n",
    "    pos = prevroad[prevroad[:, 1] == 1, 0]\n",
    "    avg = np.mean(pos)\n",
    "    std = np.std(pos)\n",
    "    return (avg, std)"
   ]
  },
  {
   "cell_type": "code",
   "execution_count": 5,
   "metadata": {
    "collapsed": true
   },
   "outputs": [],
   "source": [
    "# Q1: What is the expected value of A when N=10, M=5, and T=20?\n",
    "# find the expected value of A through numerical approximation\n",
    "# at some point, expected value shouldn't change\n",
    "# run the simulation multiple times and calculate the mean and standard deviation\n",
    "x = initialize(10, 5)\n",
    "A = np.zeros(1000000)\n",
    "S = np.zeros(1000000)\n",
    "for j in range(1000000):\n",
    "    a, s = rounds(x, 20)\n",
    "    A[j] = a\n",
    "    S[j] = s"
   ]
  },
  {
   "cell_type": "code",
   "execution_count": 6,
   "metadata": {},
   "outputs": [
    {
     "name": "stdout",
     "output_type": "stream",
     "text": [
      "4.280666\n",
      "0.8102534149536178\n"
     ]
    }
   ],
   "source": [
    "print(np.mean(A))\n",
    "print(np.std(A))"
   ]
  },
  {
   "cell_type": "code",
   "execution_count": 7,
   "metadata": {},
   "outputs": [
    {
     "name": "stdout",
     "output_type": "stream",
     "text": [
      "2.701723527816437\n",
      "0.4943545076593359\n"
     ]
    }
   ],
   "source": [
    "print(np.mean(S))\n",
    "print(np.std(S))"
   ]
  },
  {
   "cell_type": "code",
   "execution_count": 9,
   "metadata": {
    "collapsed": true
   },
   "outputs": [],
   "source": [
    "del x, A, S, a, s"
   ]
  },
  {
   "cell_type": "code",
   "execution_count": 13,
   "metadata": {
    "collapsed": true
   },
   "outputs": [],
   "source": [
    "# Q2: What is the expected value of A when N=25, M=10, and T=50?\n",
    "x = initialize(25, 10)\n",
    "A = np.zeros(1000000)\n",
    "S = np.zeros(1000000)\n",
    "for j in range(1000000):\n",
    "    a, s = rounds(x, 50)\n",
    "    A[j] = a\n",
    "    S[j] = s"
   ]
  },
  {
   "cell_type": "code",
   "execution_count": 14,
   "metadata": {},
   "outputs": [
    {
     "name": "stdout",
     "output_type": "stream",
     "text": [
      "9.23958\n",
      "0.7637286321724491\n"
     ]
    }
   ],
   "source": [
    "print(np.mean(A))\n",
    "print(np.std(A))"
   ]
  },
  {
   "cell_type": "code",
   "execution_count": 15,
   "metadata": {},
   "outputs": [
    {
     "name": "stdout",
     "output_type": "stream",
     "text": [
      "6.10981461955819\n",
      "0.8320963373510373\n"
     ]
    }
   ],
   "source": [
    "print(np.mean(S))\n",
    "print(np.std(S))"
   ]
  }
 ],
 "metadata": {
  "kernelspec": {
   "display_name": "Python 3",
   "language": "python",
   "name": "python3"
  },
  "language_info": {
   "codemirror_mode": {
    "name": "ipython",
    "version": 3
   },
   "file_extension": ".py",
   "mimetype": "text/x-python",
   "name": "python",
   "nbconvert_exporter": "python",
   "pygments_lexer": "ipython3",
   "version": "3.6.1"
  }
 },
 "nbformat": 4,
 "nbformat_minor": 2
}
