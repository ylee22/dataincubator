{
 "cells": [
  {
   "cell_type": "code",
   "execution_count": 1,
   "metadata": {
    "collapsed": true
   },
   "outputs": [],
   "source": [
    "from pandas_datareader import data\n",
    "import pandas as pd\n",
    "import pandas_datareader.data as web\n",
    "from pandas_datareader.nasdaq_trader import get_nasdaq_symbols\n",
    "import numpy as np\n",
    "import matplotlib.pyplot as plt\n",
    "from sklearn.linear_model import LinearRegression\n",
    "import os\n",
    "import re"
   ]
  },
  {
   "cell_type": "code",
   "execution_count": 2,
   "metadata": {
    "collapsed": true
   },
   "outputs": [],
   "source": [
    "linkedin = pd.read_csv('temp_datalab_records_linkedin_company.csv', low_memory=False)"
   ]
  },
  {
   "cell_type": "code",
   "execution_count": 3,
   "metadata": {
    "collapsed": true
   },
   "outputs": [],
   "source": [
    "companies = linkedin.company_name.unique()"
   ]
  },
  {
   "cell_type": "code",
   "execution_count": 4,
   "metadata": {
    "collapsed": true
   },
   "outputs": [],
   "source": [
    "# Find companies where hiring is most predictive of stock prices.\n",
    "# function for getting stock prices for a given company\n",
    "def stock(symbol, start, end):\n",
    "    # get the stock\n",
    "    f = web.DataReader(symbol, 'iex', start, end)\n",
    "    return f\n",
    "\n",
    "# function for pulling out company linkedin data\n",
    "def companyli(company):\n",
    "    df = linkedin[linkedin.company_name==company]\n",
    "    return df[['as_of_date','employees_on_platform']]\n",
    "\n",
    "# function for getting the symbol\n",
    "def symbol(name):\n",
    "    symbols = get_nasdaq_symbols()\n",
    "    symbols = symbols[symbols['Security Name'].str.contains(name)]\n",
    "    symbols = list(symbols.index.values)\n",
    "    symbols = list(filter(lambda x: '$' not in x, symbols))\n",
    "    return symbols\n",
    "\n",
    "# find the difference in the stock price over time\n",
    "def diffprice(cs):\n",
    "    # using closing price\n",
    "    closing = cs.close\n",
    "    closing.index = pd.to_datetime(closing.index, format='%Y-%m-%d')\n",
    "    closing = closing.resample('M').first()\n",
    "    return pd.DataFrame(closing.diff())\n",
    "\n",
    "# find the difference in # of employees over time\n",
    "def diffemployees(cli):\n",
    "    cli.as_of_date = pd.to_datetime(cli.as_of_date, format='%Y-%m-%d')\n",
    "    cli = cli.set_index('as_of_date')\n",
    "    employee = cli.resample('M').first()\n",
    "    return employee.diff()\n",
    "\n",
    "# same time frame\n",
    "def timerange(ediff):\n",
    "    start = ediff.index.min()\n",
    "    end = ediff.index.max()\n",
    "    return start, end\n",
    "\n",
    "# plot change in # of employees to stock price change\n",
    "def plotchange(sdiff, ediff):\n",
    "    scaling = ediff.max()/sdiff.max()\n",
    "    scaledediff = ediff/scaling\n",
    "    plt.plot(sdiff)\n",
    "    plt.plot(scaledediff)\n",
    "    plt.show()\n",
    "    \n",
    "# def linregress(sdiff, ediff):\n",
    "def linregress(x, y):\n",
    "    lr = LinearRegression()\n",
    "    lr.fit(x, y)\n",
    "    return lr.score(x, y)\n",
    "# why did the industry change?"
   ]
  },
  {
   "cell_type": "code",
   "execution_count": 5,
   "metadata": {
    "collapsed": true
   },
   "outputs": [],
   "source": [
    "# get symbols\n",
    "compdict = dict.fromkeys(companies)\n",
    "for k in companies:\n",
    "    try:\n",
    "        i = re.search('[^a-zA-Z ]', k).start()\n",
    "        k = k[:i].rstrip()\n",
    "    except:\n",
    "        pass\n",
    "    s = symbol(k)\n",
    "    compdict[k] = s"
   ]
  },
  {
   "cell_type": "code",
   "execution_count": 6,
   "metadata": {
    "collapsed": true
   },
   "outputs": [],
   "source": [
    "# select one symbol\n",
    "compdict['Goldman Sachs'] = ['GS']"
   ]
  },
  {
   "cell_type": "code",
   "execution_count": 37,
   "metadata": {},
   "outputs": [],
   "source": [
    "# look at each company and calculate the linear regression\n",
    "\n",
    "r2 = np.zeros(companies.shape)\n",
    "validcomp = []\n",
    "c = 0\n",
    "totmem = 0\n",
    "for k in compdict.keys():\n",
    "    if (compdict[k] is not None) and (len(compdict[k]) == 1):\n",
    "        # get employee count from linkedin\n",
    "        emp = companyli(k)\n",
    "        if emp.shape[0] > 0:\n",
    "            diffemp = diffemployees(emp)\n",
    "\n",
    "            # get the timerange\n",
    "            start, end = timerange(diffemp)\n",
    "\n",
    "            # get stock difference\n",
    "            sym = compdict[k][0]\n",
    "            st = stock(sym, start, end)\n",
    "            totmem += st.memory_usage().sum()\n",
    "            diffst = diffprice(st)\n",
    "\n",
    "            # remove nan\n",
    "            y = diffemp[1:]\n",
    "            # get the same timerange\n",
    "            x = diffst[1:]\n",
    "\n",
    "            if (x.shape[0] > 4) and (y.isnull().values.sum() == 0):\n",
    "                # stock data is smaller than the employee data\n",
    "                y = y.loc[x.index.min():x.index.max()]\n",
    "\n",
    "                # get r2 value\n",
    "                r2[c] = linregress(x, y)\n",
    "                # get the name of the company\n",
    "                validcomp.append(k)\n",
    "                c += 1\n",
    "                \n",
    "                # save\n",
    "                df = y.join(x)\n",
    "                df.to_csv('deltastem/' + k +'.csv', index=True)"
   ]
  },
  {
   "cell_type": "code",
   "execution_count": 43,
   "metadata": {},
   "outputs": [
    {
     "data": {
      "text/plain": [
       "304.74742399999997"
      ]
     },
     "execution_count": 43,
     "metadata": {},
     "output_type": "execute_result"
    }
   ],
   "source": [
    "# convert from bytes to megabytes\n",
    "(totmem+linkedin.memory_usage().sum())*10**-6"
   ]
  },
  {
   "cell_type": "code",
   "execution_count": 48,
   "metadata": {},
   "outputs": [],
   "source": [
    "r2 = r2[r2>0]"
   ]
  },
  {
   "cell_type": "code",
   "execution_count": 50,
   "metadata": {},
   "outputs": [],
   "source": [
    "# save\n",
    "df = pd.DataFrame(validcomp, columns=['names'])\n",
    "df['r2'] = r2\n",
    "df.to_csv('deltastemr2.csv', index=False)"
   ]
  },
  {
   "cell_type": "code",
   "execution_count": 77,
   "metadata": {},
   "outputs": [],
   "source": [
    "df = df.sort_values(by=['r2'], ascending=False)\n",
    "c = list(df.names)"
   ]
  },
  {
   "cell_type": "code",
   "execution_count": 124,
   "metadata": {},
   "outputs": [],
   "source": [
    "temp = pd.read_csv('deltastem/' + c[6] + '.csv')"
   ]
  },
  {
   "cell_type": "code",
   "execution_count": 126,
   "metadata": {},
   "outputs": [
    {
     "data": {
      "image/png": "[encoded data removed]",
      "text/plain": [
       "<matplotlib.figure.Figure at 0x11de1c860>"
      ]
     },
     "metadata": {},
     "output_type": "display_data"
    }
   ],
   "source": [
    "# plot the differences in stock value to employee number fluxuations\n",
    "plotchange(temp.close, temp.employees_on_platform)"
   ]
  },
  {
   "cell_type": "code",
   "execution_count": 118,
   "metadata": {},
   "outputs": [
    {
     "data": {
      "image/png": "[encoded data removed]",
      "text/plain": [
       "<matplotlib.figure.Figure at 0x11de1ca58>"
      ]
     },
     "metadata": {},
     "output_type": "display_data"
    }
   ],
   "source": [
    "k = c[1]\n",
    "emp = companyli(k)\n",
    "\n",
    "diffemp = diffemployees(emp)\n",
    "\n",
    "# get the timerange\n",
    "start, end = timerange(diffemp)\n",
    "\n",
    "# get stock difference\n",
    "sym = compdict[k][0]\n",
    "st = stock(sym, start, end)\n",
    "totmem += st.memory_usage().sum()\n",
    "diffst = diffprice(st)\n",
    "\n",
    "# remove nan\n",
    "y = diffemp[1:]\n",
    "# get the same timerange\n",
    "x = diffst[1:]\n",
    "plotchange(x.close, y.employees_on_platform)"
   ]
  },
  {
   "cell_type": "code",
   "execution_count": 117,
   "metadata": {},
   "outputs": [
    {
     "data": {
      "image/png": "[encoded data removed]",
      "text/plain": [
       "<matplotlib.figure.Figure at 0x11def20b8>"
      ]
     },
     "metadata": {},
     "output_type": "display_data"
    }
   ],
   "source": [
    "k = c[3]\n",
    "emp = companyli(k)\n",
    "\n",
    "diffemp = diffemployees(emp)\n",
    "\n",
    "# get the timerange\n",
    "start, end = timerange(diffemp)\n",
    "\n",
    "# get stock difference\n",
    "sym = compdict[k][0]\n",
    "st = stock(sym, start, end)\n",
    "totmem += st.memory_usage().sum()\n",
    "diffst = diffprice(st)\n",
    "\n",
    "# remove nan\n",
    "y = diffemp[1:]\n",
    "# get the same timerange\n",
    "x = diffst[1:]\n",
    "plotchange(x.close, y.employees_on_platform)"
   ]
  },
  {
   "cell_type": "code",
   "execution_count": 153,
   "metadata": {},
   "outputs": [
    {
     "data": {
      "text/plain": [
       "13"
      ]
     },
     "execution_count": 153,
     "metadata": {},
     "output_type": "execute_result"
    }
   ],
   "source": [
    "highr2 = df[df['r2']>0.5].names\n",
    "highr2 = list(highr2)\n",
    "len(highr2)"
   ]
  },
  {
   "cell_type": "code",
   "execution_count": 163,
   "metadata": {},
   "outputs": [],
   "source": [
    "ind = []\n",
    "for i in range(len(highr2)):\n",
    "    ind.extend(list(linkedin[linkedin.company_name==highr2[i]].industry.unique()))"
   ]
  },
  {
   "cell_type": "code",
   "execution_count": 166,
   "metadata": {},
   "outputs": [
    {
     "data": {
      "text/plain": [
       "Banking                                 168364\n",
       "Biotechnology                           152710\n",
       "Financial Services                      148143\n",
       "Oil & Energy                            116830\n",
       "Retail                                   95384\n",
       "Pharmaceuticals                          92107\n",
       "Information Technology and Services      85066\n",
       "Computer Software                        83214\n",
       "Real Estate                              81195\n",
       "Internet                                 75450\n",
       "Telecommunications                       63897\n",
       "Medical Devices                          63717\n",
       "Semiconductors                           58060\n",
       "Electrical/Electronic Manufacturing      55538\n",
       "Insurance                                55291\n",
       "Utilities                                51601\n",
       "Automotive                               49154\n",
       "Mining & Metals                          45272\n",
       "Restaurants                              38666\n",
       "Consumer Goods                           36615\n",
       "Chemicals                                35177\n",
       "Hospital & Health Care                   34294\n",
       "Machinery                                33504\n",
       "Mechanical or Industrial Engineering     31068\n",
       "Construction                             25908\n",
       "Marketing and Advertising                25638\n",
       "Transportation/Trucking/Railroad         25016\n",
       "Food & Beverages                         24784\n",
       "Building Materials                       24211\n",
       "Hospitality                              20096\n",
       "                                         ...  \n",
       "Defense &amp; Space                        883\n",
       "Veterinary                                 817\n",
       "Government Administration                  766\n",
       "Executive Office                           751\n",
       "Recreational Facilities and Services       693\n",
       "Law Enforcement                            667\n",
       "Shipbuilding                               648\n",
       "Public Safety                              568\n",
       "Warehousing                                568\n",
       "Renewables &amp; Environment               481\n",
       "Fine Art                                   467\n",
       "Computer &amp; Network Security            463\n",
       "Leisure, Travel &amp; Tourism              372\n",
       "Paper &amp; Forest Products                368\n",
       "Medical Practice                           281\n",
       "Nonprofit Organization Management          281\n",
       "International Trade and Development        206\n",
       "Luxury Goods &amp; Jewelry                 205\n",
       "Law Practice                               190\n",
       "Ranching                                   187\n",
       "Graphic Design                             187\n",
       "Market Research                            148\n",
       "Venture Capital &amp; Private Equity       136\n",
       "Glass, Ceramics &amp; Concrete             116\n",
       "Military                                    94\n",
       "Photography                                 94\n",
       "Program Development                         93\n",
       "Individual &amp; Family Services            56\n",
       "Professional Training &amp; Coaching        47\n",
       "Gambling &amp; Casinos                      31\n",
       "Name: industry, Length: 140, dtype: int64"
      ]
     },
     "execution_count": 166,
     "metadata": {},
     "output_type": "execute_result"
    }
   ],
   "source": [
    "linkedin.industry.value_counts()"
   ]
  }
 ],
 "metadata": {
  "kernelspec": {
   "display_name": "Python 3",
   "language": "python",
   "name": "python3"
  },
  "language_info": {
   "codemirror_mode": {
    "name": "ipython",
    "version": 3
   },
   "file_extension": ".py",
   "mimetype": "text/x-python",
   "name": "python",
   "nbconvert_exporter": "python",
   "pygments_lexer": "ipython3",
   "version": "3.6.8"
  }
 },
 "nbformat": 4,
 "nbformat_minor": 2
}
