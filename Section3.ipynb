{
 "cells": [
  {
   "cell_type": "code",
   "execution_count": 1,
   "metadata": {
    "collapsed": true
   },
   "outputs": [],
   "source": [
    "from pandas_datareader import data\n",
    "import pandas as pd\n",
    "import pandas_datareader.data as web\n",
    "from pandas_datareader.nasdaq_trader import get_nasdaq_symbols\n",
    "import numpy as np\n",
    "import matplotlib.pyplot as plt\n",
    "from sklearn.linear_model import LinearRegression\n",
    "import os\n",
    "import re"
   ]
  },
  {
   "cell_type": "code",
   "execution_count": 2,
   "metadata": {
    "collapsed": true
   },
   "outputs": [],
   "source": [
    "linkedin = pd.read_csv('temp_datalab_records_linkedin_company.csv', low_memory=False)"
   ]
  },
  {
   "cell_type": "code",
   "execution_count": 3,
   "metadata": {},
   "outputs": [
    {
     "data": {
      "text/html": [
       "<div>\n",
       "<style scoped>\n",
       "    .dataframe tbody tr th:only-of-type {\n",
       "        vertical-align: middle;\n",
       "    }\n",
       "\n",
       "    .dataframe tbody tr th {\n",
       "        vertical-align: top;\n",
       "    }\n",
       "\n",
       "    .dataframe thead th {\n",
       "        text-align: right;\n",
       "    }\n",
       "</style>\n",
       "<table border=\"1\" class=\"dataframe\">\n",
       "  <thead>\n",
       "    <tr style=\"text-align: right;\">\n",
       "      <th></th>\n",
       "      <th>dataset_id</th>\n",
       "      <th>as_of_date</th>\n",
       "      <th>company_name</th>\n",
       "      <th>followers_count</th>\n",
       "      <th>employees_on_platform</th>\n",
       "      <th>link</th>\n",
       "      <th>industry</th>\n",
       "      <th>date_added</th>\n",
       "      <th>date_updated</th>\n",
       "      <th>description</th>\n",
       "      <th>website</th>\n",
       "      <th>entity_id</th>\n",
       "      <th>cusip</th>\n",
       "      <th>isin</th>\n",
       "    </tr>\n",
       "  </thead>\n",
       "  <tbody>\n",
       "    <tr>\n",
       "      <th>0</th>\n",
       "      <td>58329</td>\n",
       "      <td>2015-09-14</td>\n",
       "      <td>Goldman Sachs</td>\n",
       "      <td>552254</td>\n",
       "      <td>38124</td>\n",
       "      <td>https://www.linkedin.com/company/1382</td>\n",
       "      <td>Investment Banking</td>\n",
       "      <td>2015-09-14 00:00:00+00</td>\n",
       "      <td>2015-09-14 00:00:00+00</td>\n",
       "      <td>NaN</td>\n",
       "      <td>NaN</td>\n",
       "      <td>NaN</td>\n",
       "      <td>NaN</td>\n",
       "      <td>NaN</td>\n",
       "    </tr>\n",
       "    <tr>\n",
       "      <th>1</th>\n",
       "      <td>58329</td>\n",
       "      <td>2015-09-15</td>\n",
       "      <td>Goldman Sachs</td>\n",
       "      <td>552862</td>\n",
       "      <td>38141</td>\n",
       "      <td>https://www.linkedin.com/company/1382</td>\n",
       "      <td>Investment Banking</td>\n",
       "      <td>2015-09-15 00:00:00+00</td>\n",
       "      <td>2015-09-15 00:00:00+00</td>\n",
       "      <td>NaN</td>\n",
       "      <td>NaN</td>\n",
       "      <td>NaN</td>\n",
       "      <td>NaN</td>\n",
       "      <td>NaN</td>\n",
       "    </tr>\n",
       "    <tr>\n",
       "      <th>2</th>\n",
       "      <td>58363</td>\n",
       "      <td>2015-09-16</td>\n",
       "      <td>United Technologies</td>\n",
       "      <td>59157</td>\n",
       "      <td>14982</td>\n",
       "      <td>https://www.linkedin.com/company/2426</td>\n",
       "      <td>Aviation &amp; Aerospace</td>\n",
       "      <td>2015-09-16 00:00:00+00</td>\n",
       "      <td>2015-09-16 00:00:00+00</td>\n",
       "      <td>NaN</td>\n",
       "      <td>NaN</td>\n",
       "      <td>NaN</td>\n",
       "      <td>NaN</td>\n",
       "      <td>NaN</td>\n",
       "    </tr>\n",
       "    <tr>\n",
       "      <th>3</th>\n",
       "      <td>58366</td>\n",
       "      <td>2015-09-16</td>\n",
       "      <td>Novo Nordisk</td>\n",
       "      <td>336175</td>\n",
       "      <td>26448</td>\n",
       "      <td>https://www.linkedin.com/company/2227</td>\n",
       "      <td>Pharmaceuticals</td>\n",
       "      <td>2015-09-16 00:00:00+00</td>\n",
       "      <td>2015-09-16 00:00:00+00</td>\n",
       "      <td>NaN</td>\n",
       "      <td>NaN</td>\n",
       "      <td>NaN</td>\n",
       "      <td>NaN</td>\n",
       "      <td>NaN</td>\n",
       "    </tr>\n",
       "    <tr>\n",
       "      <th>4</th>\n",
       "      <td>58371</td>\n",
       "      <td>2015-09-16</td>\n",
       "      <td>Lowe's Companies, Inc.</td>\n",
       "      <td>134255</td>\n",
       "      <td>62574</td>\n",
       "      <td>https://www.linkedin.com/company/4128</td>\n",
       "      <td>Retail</td>\n",
       "      <td>2015-09-16 00:00:00+00</td>\n",
       "      <td>2015-09-16 00:00:00+00</td>\n",
       "      <td>NaN</td>\n",
       "      <td>NaN</td>\n",
       "      <td>NaN</td>\n",
       "      <td>NaN</td>\n",
       "      <td>NaN</td>\n",
       "    </tr>\n",
       "  </tbody>\n",
       "</table>\n",
       "</div>"
      ],
      "text/plain": [
       "   dataset_id  as_of_date            company_name  followers_count  \\\n",
       "0       58329  2015-09-14           Goldman Sachs           552254   \n",
       "1       58329  2015-09-15           Goldman Sachs           552862   \n",
       "2       58363  2015-09-16     United Technologies            59157   \n",
       "3       58366  2015-09-16            Novo Nordisk           336175   \n",
       "4       58371  2015-09-16  Lowe's Companies, Inc.           134255   \n",
       "\n",
       "   employees_on_platform                                   link  \\\n",
       "0                  38124  https://www.linkedin.com/company/1382   \n",
       "1                  38141  https://www.linkedin.com/company/1382   \n",
       "2                  14982  https://www.linkedin.com/company/2426   \n",
       "3                  26448  https://www.linkedin.com/company/2227   \n",
       "4                  62574  https://www.linkedin.com/company/4128   \n",
       "\n",
       "               industry              date_added            date_updated  \\\n",
       "0    Investment Banking  2015-09-14 00:00:00+00  2015-09-14 00:00:00+00   \n",
       "1    Investment Banking  2015-09-15 00:00:00+00  2015-09-15 00:00:00+00   \n",
       "2  Aviation & Aerospace  2015-09-16 00:00:00+00  2015-09-16 00:00:00+00   \n",
       "3       Pharmaceuticals  2015-09-16 00:00:00+00  2015-09-16 00:00:00+00   \n",
       "4                Retail  2015-09-16 00:00:00+00  2015-09-16 00:00:00+00   \n",
       "\n",
       "  description website  entity_id  cusip  isin  \n",
       "0         NaN     NaN        NaN    NaN   NaN  \n",
       "1         NaN     NaN        NaN    NaN   NaN  \n",
       "2         NaN     NaN        NaN    NaN   NaN  \n",
       "3         NaN     NaN        NaN    NaN   NaN  \n",
       "4         NaN     NaN        NaN    NaN   NaN  "
      ]
     },
     "execution_count": 3,
     "metadata": {},
     "output_type": "execute_result"
    }
   ],
   "source": [
    "linkedin.head()"
   ]
  },
  {
   "cell_type": "code",
   "execution_count": 4,
   "metadata": {
    "collapsed": true
   },
   "outputs": [],
   "source": [
    "companies = linkedin.company_name.unique()"
   ]
  },
  {
   "cell_type": "code",
   "execution_count": 5,
   "metadata": {},
   "outputs": [
    {
     "data": {
      "text/plain": [
       "5028"
      ]
     },
     "execution_count": 5,
     "metadata": {},
     "output_type": "execute_result"
    }
   ],
   "source": [
    "companies.size"
   ]
  },
  {
   "cell_type": "code",
   "execution_count": 6,
   "metadata": {},
   "outputs": [],
   "source": [
    "# Find companies where hiring is most predictive of stock prices.\n",
    "# function for getting stock prices for a given company\n",
    "def stock(symbol, start, end):\n",
    "    # get the stock\n",
    "    f = web.DataReader(symbol, 'iex', start, end)\n",
    "    return f\n",
    "\n",
    "# function for pulling out company linkedin data\n",
    "def companyli(company):\n",
    "    df = linkedin[linkedin.company_name==company]\n",
    "    return df[['as_of_date','employees_on_platform']]\n",
    "\n",
    "# function for getting the symbol\n",
    "def symbol(name):\n",
    "    symbols = get_nasdaq_symbols()\n",
    "    symbols = symbols[symbols['Security Name'].str.contains(name)]\n",
    "    symbols = list(symbols.index.values)\n",
    "    symbols = list(filter(lambda x: '$' not in x, symbols))\n",
    "    return symbols\n",
    "\n",
    "# find the difference in the stock price over time\n",
    "def diffprice(cs):\n",
    "    # using closing price\n",
    "    closing = cs.close\n",
    "    closing.index = pd.to_datetime(closing.index, format='%Y-%m-%d')\n",
    "    closing = closing.resample('M').first()\n",
    "    diffclose = pd.DataFrame(closing.diff())\n",
    "    # return monthly stock price change in percent total from previous month\n",
    "    diffpercent = diffclose.close[1:].to_numpy()/closing[0:-1].to_numpy()\n",
    "    diffclose['percentstock'] = np.append(np.nan, diffpercent)\n",
    "    return diffclose\n",
    "\n",
    "# find the difference in # of employees over time\n",
    "def diffemployees(cli):\n",
    "    cli.as_of_date = pd.to_datetime(cli.as_of_date, format='%Y-%m-%d')\n",
    "    cli = cli.set_index('as_of_date')\n",
    "    employee = cli.resample('M').first()\n",
    "    diffemp = employee.diff()\n",
    "    # return montly employee number change in percent total from previous month\n",
    "    diffpercent = diffemp.employees_on_platform[1:].to_numpy()/employee.employees_on_platform[0:-1].to_numpy()\n",
    "    diffemp['percentemp'] = np.append(np.nan, diffpercent)\n",
    "    return diffemp\n",
    "\n",
    "# same time frame\n",
    "def timerange(ediff):\n",
    "    start = ediff.index.min()\n",
    "    end = ediff.index.max()\n",
    "    return start, end\n",
    "\n",
    "# # plot change in # of employees to stock price change\n",
    "# def plotchange(sdiff, ediff):\n",
    "#     scaling = ediff.max()/sdiff.max()\n",
    "#     scaledediff = ediff/scaling\n",
    "#     plt.plot(sdiff)\n",
    "#     plt.plot(scaledediff)\n",
    "#     plt.show()\n",
    "    \n",
    "# def linregress(sdiff, ediff):\n",
    "def linregress(x, y):\n",
    "    lr = LinearRegression()\n",
    "    lr.fit(x, y)\n",
    "    return lr.score(x, y)\n",
    "# why did the industry change?"
   ]
  },
  {
   "cell_type": "code",
   "execution_count": 7,
   "metadata": {
    "collapsed": true
   },
   "outputs": [],
   "source": [
    "# get symbols\n",
    "compdict = dict.fromkeys(companies)\n",
    "for k in companies:\n",
    "    try:\n",
    "        i = re.search('[^a-zA-Z ]', k).start()\n",
    "        k = k[:i].rstrip()\n",
    "    except:\n",
    "        pass\n",
    "    s = symbol(k)\n",
    "    compdict[k] = s"
   ]
  },
  {
   "cell_type": "code",
   "execution_count": 8,
   "metadata": {
    "collapsed": true
   },
   "outputs": [],
   "source": [
    "# select one symbol\n",
    "compdict['Goldman Sachs'] = ['GS']"
   ]
  },
  {
   "cell_type": "code",
   "execution_count": 9,
   "metadata": {},
   "outputs": [
    {
     "name": "stderr",
     "output_type": "stream",
     "text": [
      "/Users/leey/anaconda3/lib/python3.6/site-packages/scipy/linalg/basic.py:1226: RuntimeWarning: internal gelsd driver lwork query error, required iwork dimension not returned. This is likely the result of LAPACK bug 0038, fixed in LAPACK 3.2.2 (released July 21, 2010). Falling back to 'gelss' driver.\n",
      "  warnings.warn(mesg, RuntimeWarning)\n"
     ]
    }
   ],
   "source": [
    "# look at each company and calculate the linear regression\n",
    "\n",
    "r2 = np.zeros([companies.shape[0], 2])\n",
    "validcomp = []\n",
    "c = 0\n",
    "totmem = 0\n",
    "for k in compdict.keys():\n",
    "    if (compdict[k] is not None) and (len(compdict[k]) == 1):\n",
    "        # get employee count from linkedin\n",
    "        emp = companyli(k)\n",
    "        if emp.shape[0] > 0:\n",
    "            diffemp = diffemployees(emp)\n",
    "\n",
    "            # get the timerange\n",
    "            start, end = timerange(diffemp)\n",
    "\n",
    "            # get stock difference\n",
    "            sym = compdict[k][0]\n",
    "            st = stock(sym, start, end)\n",
    "            totmem += st.memory_usage().sum()\n",
    "            diffst = diffprice(st)\n",
    "\n",
    "            # remove nan from the employee data\n",
    "            y = diffemp.percentemp[1:]\n",
    "            # remove nan from the stock data\n",
    "            x = diffst.percentstock[1:]\n",
    "\n",
    "            # at least half a year of data\n",
    "            if (x.shape[0] > 5) and (y.isnull().values.sum() == 0):\n",
    "                # sometimes stock data is smaller than the employee data\n",
    "                y = y.loc[x.index.min():x.index.max()]\n",
    "\n",
    "                # get r2 value\n",
    "#                 r2[c] = linregress(x, y)\n",
    "                # stock to predict employee change\n",
    "                r2[c, 0] = linregress(x[0:-1].values.reshape([-1,1]), y[1:].values.reshape([-1,1]))\n",
    "                # employee to predict stock change\n",
    "                r2[c, 1] = linregress(y[0:-1].values.reshape([-1,1]), x[1:].values.reshape([-1,1]))\n",
    "                # get the name of the company\n",
    "                validcomp.append(k)\n",
    "                c += 1\n",
    "                \n",
    "                # save\n",
    "                df = y.to_frame()\n",
    "                df = df.join(x)\n",
    "                df.to_csv('deltastem/' + k +'.csv', index=True)"
   ]
  },
  {
   "cell_type": "code",
   "execution_count": 10,
   "metadata": {},
   "outputs": [
    {
     "data": {
      "text/plain": [
       "304.652816"
      ]
     },
     "execution_count": 10,
     "metadata": {},
     "output_type": "execute_result"
    }
   ],
   "source": [
    "# convert from bytes to megabytes\n",
    "(totmem+linkedin.memory_usage().sum())*10**-6"
   ]
  },
  {
   "cell_type": "code",
   "execution_count": 11,
   "metadata": {},
   "outputs": [],
   "source": [
    "# save\n",
    "df = pd.DataFrame(validcomp, columns=['names'])\n",
    "df['stpredem'] = r2[:c, 0]\n",
    "df['empredst'] = r2[:c, 1]\n",
    "df.to_csv('deltastemr2.csv', index=False)"
   ]
  }
 ],
 "metadata": {
  "kernelspec": {
   "display_name": "Python 3",
   "language": "python",
   "name": "python3"
  },
  "language_info": {
   "codemirror_mode": {
    "name": "ipython",
    "version": 3
   },
   "file_extension": ".py",
   "mimetype": "text/x-python",
   "name": "python",
   "nbconvert_exporter": "python",
   "pygments_lexer": "ipython3",
   "version": "3.6.8"
  }
 },
 "nbformat": 4,
 "nbformat_minor": 2
}
